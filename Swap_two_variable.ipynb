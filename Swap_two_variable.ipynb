{
 "cells": [
  {
   "cell_type": "code",
   "execution_count": 1,
   "id": "bda350a7",
   "metadata": {},
   "outputs": [
    {
     "name": "stdout",
     "output_type": "stream",
     "text": [
      "After swaping A: 20\n",
      "After swaping B: 10\n"
     ]
    }
   ],
   "source": [
    "A = 10\n",
    "B = 20\n",
    "temp = A\n",
    "A = B\n",
    "B = temp\n",
    "print(\"After swaping A:\",A)\n",
    "print(\"After swaping B:\",B)"
   ]
  },
  {
   "cell_type": "code",
   "execution_count": null,
   "id": "c1f7e959",
   "metadata": {},
   "outputs": [],
   "source": []
  }
 ],
 "metadata": {
  "kernelspec": {
   "display_name": "Python 3 (ipykernel)",
   "language": "python",
   "name": "python3"
  },
  "language_info": {
   "codemirror_mode": {
    "name": "ipython",
    "version": 3
   },
   "file_extension": ".py",
   "mimetype": "text/x-python",
   "name": "python",
   "nbconvert_exporter": "python",
   "pygments_lexer": "ipython3",
   "version": "3.9.13"
  }
 },
 "nbformat": 4,
 "nbformat_minor": 5
}
