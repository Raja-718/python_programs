{
 "cells": [
  {
   "cell_type": "code",
   "execution_count": 1,
   "id": "5e2d3a39",
   "metadata": {},
   "outputs": [
    {
     "name": "stdout",
     "output_type": "stream",
     "text": [
      "Enter value in kilometers: 12\n",
      "12.00 kilometers is equal to 7.46 miles\n"
     ]
    }
   ],
   "source": [
    "\n",
    "kilometers = float(input(\"Enter value in kilometers: \"))\n",
    "\n",
    "conv_fac = 0.621371\n",
    "miles = kilometers * conv_fac\n",
    "print('%0.2f kilometers is equal to %0.2f miles' %(kilometers,miles))\n"
   ]
  },
  {
   "cell_type": "code",
   "execution_count": null,
   "id": "51adf3bc",
   "metadata": {},
   "outputs": [],
   "source": []
  }
 ],
 "metadata": {
  "kernelspec": {
   "display_name": "Python 3 (ipykernel)",
   "language": "python",
   "name": "python3"
  },
  "language_info": {
   "codemirror_mode": {
    "name": "ipython",
    "version": 3
   },
   "file_extension": ".py",
   "mimetype": "text/x-python",
   "name": "python",
   "nbconvert_exporter": "python",
   "pygments_lexer": "ipython3",
   "version": "3.9.13"
  }
 },
 "nbformat": 4,
 "nbformat_minor": 5
}
