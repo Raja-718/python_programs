{
 "cells": [
  {
   "cell_type": "code",
   "execution_count": 3,
   "id": "ce32a3d0",
   "metadata": {},
   "outputs": [
    {
     "name": "stdout",
     "output_type": "stream",
     "text": [
      "The area of triangle is 14.696938456699069\n"
     ]
    }
   ],
   "source": [
    "A = 5\n",
    "B = 6\n",
    "C = 7\n",
    "s = (A+B+C)/2\n",
    "area = (s*(s-A)*(s-B)*(s-C)) ** 0.5\n",
    "print(\"The area of triangle is\",area)"
   ]
  },
  {
   "cell_type": "code",
   "execution_count": null,
   "id": "aacf7c6f",
   "metadata": {},
   "outputs": [],
   "source": []
  }
 ],
 "metadata": {
  "kernelspec": {
   "display_name": "Python 3 (ipykernel)",
   "language": "python",
   "name": "python3"
  },
  "language_info": {
   "codemirror_mode": {
    "name": "ipython",
    "version": 3
   },
   "file_extension": ".py",
   "mimetype": "text/x-python",
   "name": "python",
   "nbconvert_exporter": "python",
   "pygments_lexer": "ipython3",
   "version": "3.9.13"
  }
 },
 "nbformat": 4,
 "nbformat_minor": 5
}
