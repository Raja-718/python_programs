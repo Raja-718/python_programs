{
 "cells": [
  {
   "cell_type": "code",
   "execution_count": 3,
   "id": "ddf1711c",
   "metadata": {},
   "outputs": [
    {
     "name": "stdout",
     "output_type": "stream",
     "text": [
      "enter a number:-1\n",
      "Negative number\n"
     ]
    }
   ],
   "source": [
    "num = int(input(\"enter a number:\"))\n",
    "if num == 0:\n",
    "    print(\"Zero\")\n",
    "elif num >0:\n",
    "    print(\"Possitive number\")\n",
    "else:\n",
    "    print(\"Negative number\")"
   ]
  },
  {
   "cell_type": "code",
   "execution_count": null,
   "id": "d1055515",
   "metadata": {},
   "outputs": [],
   "source": []
  }
 ],
 "metadata": {
  "kernelspec": {
   "display_name": "Python 3 (ipykernel)",
   "language": "python",
   "name": "python3"
  },
  "language_info": {
   "codemirror_mode": {
    "name": "ipython",
    "version": 3
   },
   "file_extension": ".py",
   "mimetype": "text/x-python",
   "name": "python",
   "nbconvert_exporter": "python",
   "pygments_lexer": "ipython3",
   "version": "3.9.13"
  }
 },
 "nbformat": 4,
 "nbformat_minor": 5
}
